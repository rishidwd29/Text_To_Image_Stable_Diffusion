{
  "cells": [
    {
      "cell_type": "markdown",
      "id": "9d287fb0",
      "metadata": {
        "id": "9d287fb0"
      },
      "source": [
        "# Generating images using Stable Diffusion\n",
        "\n",
        "This notebook shows how to generate images using the [Stability AI's](https://stability.ai/) Stable Diffusion model. This code uses Keras' implementation.\n",
        "\n",
        "The code in this notebook is inspired by the following work:\n",
        "\n",
        "* [High-performance image generation using Stable Diffusion in KerasCV](https://keras.io/guides/keras_cv/generate_images_with_stable_diffusion/) by François Chollet, Luke Wood, and Divam Gupta.\n",
        "* [A walk through latent space with Stable Diffusion](https://keras.io/examples/generative/random_walks_with_stable_diffusion/) by Ian Stenbit, François Chollet, and Luke Wood.\n"
      ]
    },
    {
      "cell_type": "markdown",
      "id": "d92a5ccd",
      "metadata": {
        "id": "d92a5ccd"
      },
      "source": [
        "## Generating images"
      ]
    },
    {
      "cell_type": "code",
      "execution_count": 2,
      "id": "WYmZ5IjQB9sT",
      "metadata": {
        "colab": {
          "base_uri": "https://localhost:8080/"
        },
        "id": "WYmZ5IjQB9sT",
        "outputId": "941e1ba5-69e1-48e0-e369-3d6228d2297c"
      },
      "outputs": [
        {
          "name": "stdout",
          "output_type": "stream",
          "text": [
            "^C\n"
          ]
        }
      ],
      "source": [
        "!pip install tensorflow\n",
        "!pip install keras_cv\n",
        "!pip install tensorflow_datasets\n",
        "\n"
      ]
    },
    {
      "cell_type": "code",
      "execution_count": null,
      "id": "95038aaa",
      "metadata": {
        "id": "95038aaa"
      },
      "outputs": [],
      "source": [
        "import time\n",
        "import keras_cv as cv\n",
        "import tensorflow as tf\n",
        "from tensorflow import keras\n",
        "\n",
        "import matplotlib.pyplot as plt"
      ]
    },
    {
      "cell_type": "markdown",
      "id": "b6f6759a",
      "metadata": {
        "id": "b6f6759a"
      },
      "source": [
        "## training model on images using stabel diffusion"
      ]
    },
    {
      "cell_type": "code",
      "execution_count": null,
      "id": "323b858a",
      "metadata": {
        "colab": {
          "base_uri": "https://localhost:8080/"
        },
        "id": "323b858a",
        "outputId": "0281d4a1-2043-4913-d466-4ec5e60b1807"
      },
      "outputs": [],
      "source": [
        "SD = cv.models.StableDiffusion(img_width = 512, img_height=512)"
      ]
    },
    {
      "cell_type": "markdown",
      "id": "a835dde9",
      "metadata": {
        "id": "a835dde9"
      },
      "source": [
        "## function to plot the arrays into an image"
      ]
    },
    {
      "cell_type": "code",
      "execution_count": null,
      "id": "fe4c7902",
      "metadata": {
        "id": "fe4c7902"
      },
      "outputs": [],
      "source": [
        "def plot(images):\n",
        "  plt.figure(figsize=(20, 20))\n",
        "  for i in range(len(images)):\n",
        "    ax = plt.subplot(1, len(images), i+1)\n",
        "    plt.imshow(images[i])\n",
        "    plt.axis(\"off\")"
      ]
    },
    {
      "cell_type": "markdown",
      "id": "2073e340",
      "metadata": {},
      "source": [
        "## Image creation of the input text"
      ]
    },
    {
      "cell_type": "code",
      "execution_count": null,
      "id": "VrJY3wYO_KoK",
      "metadata": {
        "id": "VrJY3wYO_KoK"
      },
      "outputs": [],
      "source": [
        "images = SD.text_to_image(\"astronaught bear in a jungle real image\", batch_size = 1)"
      ]
    },
    {
      "cell_type": "markdown",
      "id": "29121ac6",
      "metadata": {},
      "source": [
        "## Plot image"
      ]
    },
    {
      "cell_type": "code",
      "execution_count": null,
      "id": "YkJP0EcR_HhO",
      "metadata": {
        "id": "YkJP0EcR_HhO"
      },
      "outputs": [],
      "source": [
        "plot(images)"
      ]
    },
    {
      "cell_type": "code",
      "execution_count": null,
      "id": "9MEZlNBX3RDa",
      "metadata": {
        "id": "9MEZlNBX3RDa"
      },
      "outputs": [],
      "source": []
    }
  ],
  "metadata": {
    "accelerator": "GPU",
    "colab": {
      "collapsed_sections": [
        "ec5a6297",
        "6279a3f2"
      ],
      "provenance": []
    },
    "gpuClass": "standard",
    "kernelspec": {
      "display_name": "Python 3.10.8 64-bit (microsoft store)",
      "language": "python",
      "name": "python3"
    },
    "language_info": {
      "codemirror_mode": {
        "name": "ipython",
        "version": 3
      },
      "file_extension": ".py",
      "mimetype": "text/x-python",
      "name": "python",
      "nbconvert_exporter": "python",
      "pygments_lexer": "ipython3",
      "version": "3.10.8"
    },
    "vscode": {
      "interpreter": {
        "hash": "e0acaf148705ed9ed86cc5cad12259d7985e30670e5686e5f55604a9b3b84a55"
      }
    }
  },
  "nbformat": 4,
  "nbformat_minor": 5
}
